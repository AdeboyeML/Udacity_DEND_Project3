{
 "cells": [
  {
   "cell_type": "code",
   "execution_count": null,
   "metadata": {},
   "outputs": [],
   "source": []
  },
  {
   "cell_type": "code",
   "execution_count": null,
   "metadata": {},
   "outputs": [],
   "source": []
  },
  {
   "cell_type": "markdown",
   "metadata": {},
   "source": [
    "# Exploring various pyspark methods in python & Jupyter notebook\n"
   ]
  },
  {
   "cell_type": "code",
   "execution_count": 81,
   "metadata": {},
   "outputs": [],
   "source": [
    "import configparser\n",
    "from datetime import datetime\n",
    "import os\n",
    "import pyspark\n",
    "from pyspark.sql import SparkSession\n",
    "from pyspark.sql import Window\n",
    "from pyspark.sql.functions import row_number, desc, col, when, udf\n",
    "from pyspark.sql.functions import year, month, dayofmonth, hour, weekofyear, date_format, from_unixtime, dayofweek\n",
    "from pyspark.sql.functions import monotonically_increasing_id\n",
    "from pyspark.sql.types import StructType as R, StructField as Fld, DoubleType as Dbl, StringType as Str, IntegerType as Int, DateType as Dat, TimestampType, LongType"
   ]
  },
  {
   "cell_type": "code",
   "execution_count": 2,
   "metadata": {},
   "outputs": [],
   "source": [
    "# config = configparser.ConfigParser()\n",
    "# config.read('conff.cfg')\n",
    "\n",
    "# os.environ['AWS_ACCESS_KEY_ID']=config['AWS']['AWS_ACCESS_KEY_ID']\n",
    "# os.environ['AWS_SECRET_ACCESS_KEY']=config['AWS']['AWS_SECRET_ACCESS_KEY']"
   ]
  },
  {
   "cell_type": "code",
   "execution_count": 2,
   "metadata": {},
   "outputs": [],
   "source": [
    "# Create or retrieve a Spark Session\n",
    "spark = SparkSession \\\n",
    "        .builder \\\n",
    "        .config(\"spark.jars.packages\", \"org.apache.hadoop:hadoop-aws:2.7.0\")\\\n",
    "        .getOrCreate()"
   ]
  },
  {
   "cell_type": "code",
   "execution_count": 3,
   "metadata": {},
   "outputs": [
    {
     "data": {
      "text/html": [
       "\n",
       "            <div>\n",
       "                <p><b>SparkSession - hive</b></p>\n",
       "                \n",
       "        <div>\n",
       "            <p><b>SparkContext</b></p>\n",
       "\n",
       "            <p><a href=\"http://DESKTOP-7IF8JOV:4040\">Spark UI</a></p>\n",
       "\n",
       "            <dl>\n",
       "              <dt>Version</dt>\n",
       "                <dd><code>v2.4.4</code></dd>\n",
       "              <dt>Master</dt>\n",
       "                <dd><code>local[*]</code></dd>\n",
       "              <dt>AppName</dt>\n",
       "                <dd><code>PySparkShell</code></dd>\n",
       "            </dl>\n",
       "        </div>\n",
       "        \n",
       "            </div>\n",
       "        "
      ],
      "text/plain": [
       "<pyspark.sql.session.SparkSession at 0x2130a5ce5f8>"
      ]
     },
     "execution_count": 3,
     "metadata": {},
     "output_type": "execute_result"
    }
   ],
   "source": [
    "spark"
   ]
  },
  {
   "cell_type": "code",
   "execution_count": 224,
   "metadata": {},
   "outputs": [],
   "source": [
    "songSchema = R([\n",
    "        Fld(\"artist_id\",Str()),\n",
    "        Fld(\"artist_latitude\",Dbl()),\n",
    "        Fld(\"artist_location\",Str()),\n",
    "        Fld(\"artist_longitude\",Dbl()),\n",
    "        Fld(\"artist_name\",Str()),\n",
    "        Fld(\"duration\",Dbl()),\n",
    "        Fld(\"num_songs\",Int()),\n",
    "        Fld(\"song_id\",Str()),\n",
    "        Fld(\"title\",Str()),\n",
    "        Fld(\"year\",Int()),\n",
    "    ])"
   ]
  },
  {
   "cell_type": "code",
   "execution_count": 219,
   "metadata": {},
   "outputs": [],
   "source": [
    "in_data = spark.read.json(\"song_data/*/*/*/*.json\")"
   ]
  },
  {
   "cell_type": "code",
   "execution_count": 223,
   "metadata": {},
   "outputs": [
    {
     "data": {
      "text/plain": [
       "DataFrame[artist_id: string, artist_latitude: double, artist_location: string, artist_longitude: double, artist_name: string, duration: double, num_songs: bigint, song_id: string, title: string, year: bigint]"
      ]
     },
     "execution_count": 223,
     "metadata": {},
     "output_type": "execute_result"
    }
   ],
   "source": [
    "in_data"
   ]
  },
  {
   "cell_type": "code",
   "execution_count": 222,
   "metadata": {
    "scrolled": true
   },
   "outputs": [
    {
     "name": "stdout",
     "output_type": "stream",
     "text": [
      "+------------------+---------------+-----------------+----------------+--------------------+---------+---------+------------------+--------------------+----+\n",
      "|         artist_id|artist_latitude|  artist_location|artist_longitude|         artist_name| duration|num_songs|           song_id|               title|year|\n",
      "+------------------+---------------+-----------------+----------------+--------------------+---------+---------+------------------+--------------------+----+\n",
      "|ARDR4AC1187FB371A1|           null|                 |            null|Montserrat Caball...|511.16363|        1|SOBAYLL12A8C138AF9|Sono andati? Fing...|   0|\n",
      "|AREBBGV1187FB523D2|           null|      Houston, TX|            null|Mike Jones (Featu...|173.66159|        1|SOOLYAZ12A6701F4A6|Laws Patrolling (...|   0|\n",
      "|ARMAC4T1187FB3FA4C|       40.82624|Morris Plains, NJ|       -74.47995|The Dillinger Esc...|207.77751|        1|SOBBUGU12A8C13E95D|Setting Fire to S...|2004|\n",
      "|ARPBNLO1187FB3D52F|       40.71455|     New York, NY|       -74.00712|            Tiny Tim| 43.36281|        1|SOAOIBZ12AB01815BE|I Hold Your Hand ...|2000|\n",
      "|ARDNS031187B9924F0|       32.67828|          Georgia|       -83.22295|          Tim Wilson|186.48771|        1|SONYPOM12A8C13B2D7|I Think My Wife I...|2005|\n",
      "+------------------+---------------+-----------------+----------------+--------------------+---------+---------+------------------+--------------------+----+\n",
      "only showing top 5 rows\n",
      "\n"
     ]
    }
   ],
   "source": [
    "in_data.show(5)"
   ]
  },
  {
   "cell_type": "code",
   "execution_count": 230,
   "metadata": {},
   "outputs": [],
   "source": [
    "input_data = spark.read.json(\"song_data/*/*/*/*.json\", schema = songSchema)"
   ]
  },
  {
   "cell_type": "code",
   "execution_count": 231,
   "metadata": {},
   "outputs": [],
   "source": [
    "copy_df = input_data"
   ]
  },
  {
   "cell_type": "code",
   "execution_count": 115,
   "metadata": {},
   "outputs": [
    {
     "data": {
      "text/html": [
       "<div>\n",
       "<style scoped>\n",
       "    .dataframe tbody tr th:only-of-type {\n",
       "        vertical-align: middle;\n",
       "    }\n",
       "\n",
       "    .dataframe tbody tr th {\n",
       "        vertical-align: top;\n",
       "    }\n",
       "\n",
       "    .dataframe thead th {\n",
       "        text-align: right;\n",
       "    }\n",
       "</style>\n",
       "<table border=\"1\" class=\"dataframe\">\n",
       "  <thead>\n",
       "    <tr style=\"text-align: right;\">\n",
       "      <th></th>\n",
       "      <th>artist_id</th>\n",
       "      <th>artist_latitude</th>\n",
       "      <th>artist_location</th>\n",
       "      <th>artist_longitude</th>\n",
       "      <th>artist_name</th>\n",
       "      <th>duration</th>\n",
       "      <th>num_songs</th>\n",
       "      <th>title</th>\n",
       "      <th>year</th>\n",
       "    </tr>\n",
       "  </thead>\n",
       "  <tbody>\n",
       "    <tr>\n",
       "      <th>0</th>\n",
       "      <td>ARDR4AC1187FB371A1</td>\n",
       "      <td>NaN</td>\n",
       "      <td></td>\n",
       "      <td>NaN</td>\n",
       "      <td>Montserrat Caballé;Placido Domingo;Vicente Sar...</td>\n",
       "      <td>511.16363</td>\n",
       "      <td>1</td>\n",
       "      <td>Sono andati? Fingevo di dormire</td>\n",
       "      <td>0</td>\n",
       "    </tr>\n",
       "    <tr>\n",
       "      <th>1</th>\n",
       "      <td>AREBBGV1187FB523D2</td>\n",
       "      <td>NaN</td>\n",
       "      <td>Houston, TX</td>\n",
       "      <td>NaN</td>\n",
       "      <td>Mike Jones (Featuring CJ_ Mello &amp; Lil' Bran)</td>\n",
       "      <td>173.66159</td>\n",
       "      <td>1</td>\n",
       "      <td>Laws Patrolling (Album Version)</td>\n",
       "      <td>0</td>\n",
       "    </tr>\n",
       "    <tr>\n",
       "      <th>2</th>\n",
       "      <td>ARMAC4T1187FB3FA4C</td>\n",
       "      <td>40.82624</td>\n",
       "      <td>Morris Plains, NJ</td>\n",
       "      <td>-74.47995</td>\n",
       "      <td>The Dillinger Escape Plan</td>\n",
       "      <td>207.77751</td>\n",
       "      <td>1</td>\n",
       "      <td>Setting Fire to Sleeping Giants</td>\n",
       "      <td>2004</td>\n",
       "    </tr>\n",
       "    <tr>\n",
       "      <th>3</th>\n",
       "      <td>ARPBNLO1187FB3D52F</td>\n",
       "      <td>40.71455</td>\n",
       "      <td>New York, NY</td>\n",
       "      <td>-74.00712</td>\n",
       "      <td>Tiny Tim</td>\n",
       "      <td>43.36281</td>\n",
       "      <td>1</td>\n",
       "      <td>I Hold Your Hand In Mine [Live At Royal Albert...</td>\n",
       "      <td>2000</td>\n",
       "    </tr>\n",
       "    <tr>\n",
       "      <th>4</th>\n",
       "      <td>ARDNS031187B9924F0</td>\n",
       "      <td>32.67828</td>\n",
       "      <td>Georgia</td>\n",
       "      <td>-83.22295</td>\n",
       "      <td>Tim Wilson</td>\n",
       "      <td>186.48771</td>\n",
       "      <td>1</td>\n",
       "      <td>I Think My Wife Is Running Around On Me (Taco ...</td>\n",
       "      <td>2005</td>\n",
       "    </tr>\n",
       "  </tbody>\n",
       "</table>\n",
       "</div>"
      ],
      "text/plain": [
       "            artist_id  artist_latitude    artist_location  artist_longitude  \\\n",
       "0  ARDR4AC1187FB371A1              NaN                                  NaN   \n",
       "1  AREBBGV1187FB523D2              NaN        Houston, TX               NaN   \n",
       "2  ARMAC4T1187FB3FA4C         40.82624  Morris Plains, NJ         -74.47995   \n",
       "3  ARPBNLO1187FB3D52F         40.71455       New York, NY         -74.00712   \n",
       "4  ARDNS031187B9924F0         32.67828            Georgia         -83.22295   \n",
       "\n",
       "                                         artist_name   duration  num_songs  \\\n",
       "0  Montserrat Caballé;Placido Domingo;Vicente Sar...  511.16363          1   \n",
       "1       Mike Jones (Featuring CJ_ Mello & Lil' Bran)  173.66159          1   \n",
       "2                          The Dillinger Escape Plan  207.77751          1   \n",
       "3                                           Tiny Tim   43.36281          1   \n",
       "4                                         Tim Wilson  186.48771          1   \n",
       "\n",
       "                                               title  year  \n",
       "0                    Sono andati? Fingevo di dormire     0  \n",
       "1                    Laws Patrolling (Album Version)     0  \n",
       "2                    Setting Fire to Sleeping Giants  2004  \n",
       "3  I Hold Your Hand In Mine [Live At Royal Albert...  2000  \n",
       "4  I Think My Wife Is Running Around On Me (Taco ...  2005  "
      ]
     },
     "execution_count": 115,
     "metadata": {},
     "output_type": "execute_result"
    }
   ],
   "source": [
    "song_df = input_data.toPandas()\n",
    "\n",
    "song_df.head(5)"
   ]
  },
  {
   "cell_type": "code",
   "execution_count": 117,
   "metadata": {},
   "outputs": [
    {
     "name": "stdout",
     "output_type": "stream",
     "text": [
      "<class 'pandas.core.frame.DataFrame'>\n",
      "RangeIndex: 71 entries, 0 to 70\n",
      "Data columns (total 9 columns):\n",
      "artist_id           71 non-null object\n",
      "artist_latitude     31 non-null float64\n",
      "artist_location     71 non-null object\n",
      "artist_longitude    31 non-null float64\n",
      "artist_name         71 non-null object\n",
      "duration            71 non-null float64\n",
      "num_songs           71 non-null int32\n",
      "title               71 non-null object\n",
      "year                71 non-null int32\n",
      "dtypes: float64(3), int32(2), object(4)\n",
      "memory usage: 4.6+ KB\n"
     ]
    }
   ],
   "source": [
    "song_df.info()"
   ]
  },
  {
   "cell_type": "code",
   "execution_count": 118,
   "metadata": {},
   "outputs": [
    {
     "data": {
      "text/plain": [
       "(71, 9)"
      ]
     },
     "execution_count": 118,
     "metadata": {},
     "output_type": "execute_result"
    }
   ],
   "source": [
    "song_df.shape"
   ]
  },
  {
   "cell_type": "code",
   "execution_count": 119,
   "metadata": {},
   "outputs": [
    {
     "data": {
      "text/plain": [
       "dtype('float64')"
      ]
     },
     "execution_count": 119,
     "metadata": {},
     "output_type": "execute_result"
    }
   ],
   "source": [
    "song_df.duration.dtype"
   ]
  },
  {
   "cell_type": "code",
   "execution_count": 17,
   "metadata": {},
   "outputs": [
    {
     "name": "stdout",
     "output_type": "stream",
     "text": [
      "root\n",
      " |-- artist_id: string (nullable = true)\n",
      " |-- artist_latitude: double (nullable = true)\n",
      " |-- artist_location: string (nullable = true)\n",
      " |-- artist_longitude: double (nullable = true)\n",
      " |-- artist_name: string (nullable = true)\n",
      " |-- duration: double (nullable = true)\n",
      " |-- num_songs: integer (nullable = true)\n",
      " |-- title: string (nullable = true)\n",
      " |-- year: integer (nullable = true)\n",
      "\n"
     ]
    }
   ],
   "source": [
    "input_data.printSchema()"
   ]
  },
  {
   "cell_type": "code",
   "execution_count": 18,
   "metadata": {},
   "outputs": [],
   "source": [
    "input_data.createOrReplaceTempView(\"df\")\n",
    "\n",
    "df_test = spark.sql(\"SELECT artist_id, COUNT(*) as num FROM df GROUP BY 1\")\n"
   ]
  },
  {
   "cell_type": "code",
   "execution_count": 20,
   "metadata": {},
   "outputs": [
    {
     "name": "stdout",
     "output_type": "stream",
     "text": [
      "+------------------+---+\n",
      "|         artist_id|num|\n",
      "+------------------+---+\n",
      "|AR9AWNF1187B9AB0B4|  1|\n",
      "|AR0IAWL1187B9A96D0|  1|\n",
      "|AR0RCMP1187FB3F427|  1|\n",
      "|AREDL271187FB40F44|  1|\n",
      "|ARI3BMM1187FB4255E|  1|\n",
      "|AR7SMBG1187B9B9066|  1|\n",
      "|ARMAC4T1187FB3FA4C|  1|\n",
      "|ARNTLGG11E2835DDB9|  2|\n",
      "|ARKRRTF1187B9984DA|  1|\n",
      "|AR051KA1187B98B2FF|  1|\n",
      "|AR10USD1187B99F3F1|  1|\n",
      "|AR7ZKHQ1187B98DD73|  1|\n",
      "|ARQ9BO41187FB5CF1F|  1|\n",
      "|AR7G5I41187FB4CE6C|  1|\n",
      "|ARGCY1Y1187B9A4FA5|  1|\n",
      "|ARAJPHH1187FB5566A|  1|\n",
      "|AR558FS1187FB45658|  1|\n",
      "|ARKFYS91187B98E58F|  1|\n",
      "|ARD842G1187B997376|  1|\n",
      "|ARJIE2Y1187B994AB7|  1|\n",
      "+------------------+---+\n",
      "only showing top 20 rows\n",
      "\n"
     ]
    }
   ],
   "source": [
    "df_test.show()"
   ]
  },
  {
   "cell_type": "code",
   "execution_count": 120,
   "metadata": {},
   "outputs": [],
   "source": [
    "#window_spec = Window.partitionBy(\"year\", \"artist_id\").orderBy(desc(\"duration\"))"
   ]
  },
  {
   "cell_type": "code",
   "execution_count": 232,
   "metadata": {},
   "outputs": [],
   "source": [
    "copy_df = copy_df.dropDuplicates()"
   ]
  },
  {
   "cell_type": "code",
   "execution_count": 122,
   "metadata": {},
   "outputs": [],
   "source": [
    "copy_df = copy_df.fillna(0)"
   ]
  },
  {
   "cell_type": "code",
   "execution_count": 123,
   "metadata": {},
   "outputs": [],
   "source": [
    "#df_copy = copy_df.withColumn(\"row_number\", row_number().over(window_spec))"
   ]
  },
  {
   "cell_type": "code",
   "execution_count": 172,
   "metadata": {},
   "outputs": [
    {
     "name": "stdout",
     "output_type": "stream",
     "text": [
      "+------------------+----+---------+\n",
      "|         artist_id|year| duration|\n",
      "+------------------+----+---------+\n",
      "|ARMJAGH1187FB546F3|1969|148.03546|\n",
      "|ARIK43K1187B9AE54C|1986| 307.3824|\n",
      "|ARGUVEV1187B98BA17|1997|313.12934|\n",
      "|ARBEBBY1187B9B43DB|1994|236.17261|\n",
      "|AR558FS1187FB45658|2003| 75.67628|\n",
      "|AR7G5I41187FB4CE6C|1982|233.40363|\n",
      "|ARH4Z031187B9A71F2|1961|156.39465|\n",
      "|ARPBNLO1187FB3D52F|2000| 43.36281|\n",
      "|AR62SOJ1187FB47BB5|2005|337.68444|\n",
      "|ARNF6401187FB57032|1994|  305.162|\n",
      "+------------------+----+---------+\n",
      "only showing top 10 rows\n",
      "\n"
     ]
    }
   ],
   "source": [
    "copy_df.select('artist_id', 'year', 'duration').where(col('year') != 0).show(10)"
   ]
  },
  {
   "cell_type": "code",
   "execution_count": 210,
   "metadata": {},
   "outputs": [],
   "source": [
    "##df_copy1 = copy_df.withColumn(\"song_id\", monotonically_increasing_id())"
   ]
  },
  {
   "cell_type": "code",
   "execution_count": 174,
   "metadata": {},
   "outputs": [
    {
     "data": {
      "text/plain": [
       "DataFrame[artist_id: string, artist_latitude: double, artist_location: string, artist_longitude: double, artist_name: string, duration: double, num_songs: int, title: string, year: int, song_id: bigint]"
      ]
     },
     "execution_count": 174,
     "metadata": {},
     "output_type": "execute_result"
    }
   ],
   "source": [
    "df_copy1"
   ]
  },
  {
   "cell_type": "code",
   "execution_count": 175,
   "metadata": {},
   "outputs": [
    {
     "data": {
      "text/plain": [
       "DataFrame[artist_id: string, artist_latitude: double, artist_location: string, artist_longitude: double, artist_name: string, duration: double, num_songs: int, title: string, year: int, song_id: bigint]"
      ]
     },
     "execution_count": 175,
     "metadata": {},
     "output_type": "execute_result"
    }
   ],
   "source": [
    "df_copy1"
   ]
  },
  {
   "cell_type": "code",
   "execution_count": 233,
   "metadata": {},
   "outputs": [],
   "source": [
    "#songs_table -- [\"title\", \"artist_id\",\"year\", \"duration\"]\n",
    "\n",
    "songs_table = copy_df.select('song_id', 'artist_id', 'year', 'duration', 'title')"
   ]
  },
  {
   "cell_type": "code",
   "execution_count": 234,
   "metadata": {},
   "outputs": [
    {
     "name": "stdout",
     "output_type": "stream",
     "text": [
      "+------------------+------------------+----+---------+--------------------+\n",
      "|           song_id|         artist_id|year| duration|               title|\n",
      "+------------------+------------------+----+---------+--------------------+\n",
      "|SONYPOM12A8C13B2D7|ARDNS031187B9924F0|2005|186.48771|I Think My Wife I...|\n",
      "|SOWQTQZ12A58A7B63E|ARPFHN61187FB575F6|   0|279.97995|Streets On Fire (...|\n",
      "|SOXVLOJ12AB0189215|ARKRRTF1187B9984DA|   0|177.47546|     Amor De Cabaret|\n",
      "|SODUJBS12A8C132150|ARI2JSK1187FB496EF|   0|111.62077|Wessex Loses a Bride|\n",
      "|SOZCTXZ12AB0182364|AR5KOSW1187FB35FF4|   0|269.58322|      Setanta matins|\n",
      "+------------------+------------------+----+---------+--------------------+\n",
      "only showing top 5 rows\n",
      "\n"
     ]
    }
   ],
   "source": [
    "songs_table.show(5)"
   ]
  },
  {
   "cell_type": "code",
   "execution_count": 235,
   "metadata": {},
   "outputs": [],
   "source": [
    "#artist-table -- artist, \"artist_name, \"artist_location, \"artist_latitude, artist_longitude\n",
    "\n",
    "artist_table = copy_df.selectExpr('artist_id as artist', 'artist_name as name', 'artist_location as location', 'artist_longitude as longitude', 'artist_latitude as latitude')"
   ]
  },
  {
   "cell_type": "code",
   "execution_count": 236,
   "metadata": {},
   "outputs": [
    {
     "name": "stdout",
     "output_type": "stream",
     "text": [
      "+------------------+--------------------+---------------+---------+--------+\n",
      "|            artist|                name|       location|longitude|latitude|\n",
      "+------------------+--------------------+---------------+---------+--------+\n",
      "|ARDNS031187B9924F0|          Tim Wilson|        Georgia|-83.22295|32.67828|\n",
      "|ARPFHN61187FB575F6|         Lupe Fiasco|    Chicago, IL|-87.63241|41.88415|\n",
      "|ARKRRTF1187B9984DA|    Sonora Santanera|               |     null|    null|\n",
      "|ARI2JSK1187FB496EF|Nick Ingman;Gavyn...|London, England| -0.12714|51.50632|\n",
      "|AR5KOSW1187FB35FF4|               Elena|      Dubai UAE| 15.47491|49.80388|\n",
      "+------------------+--------------------+---------------+---------+--------+\n",
      "only showing top 5 rows\n",
      "\n"
     ]
    }
   ],
   "source": [
    "artist_table.show(5)"
   ]
  },
  {
   "cell_type": "code",
   "execution_count": null,
   "metadata": {},
   "outputs": [],
   "source": []
  },
  {
   "cell_type": "code",
   "execution_count": 160,
   "metadata": {},
   "outputs": [
    {
     "name": "stdout",
     "output_type": "stream",
     "text": [
      "+-------------+------------------+----+---------+----------+----------------+---------------+--------------------+\n",
      "|      song_id|         artist_id|year| duration|row_number|artist_longitude|artist_latitude|               title|\n",
      "+-------------+------------------+----+---------+----------+----------------+---------------+--------------------+\n",
      "| 429496729600|ARDNS031187B9924F0|2005|186.48771|         1|       -83.22295|       32.67828|I Think My Wife I...|\n",
      "| 575525617664|ARH4Z031187B9A71F2|1961|156.39465|         1|       -74.17418|       40.73197|Crazy Mixed Up World|\n",
      "| 584115552256|AR3JMC51187B9AE49D|1999|236.25098|         1|       -81.37739|       28.53823|    Larger Than Life|\n",
      "| 644245094400|ARD842G1187B997376|1987|491.12771|         1|       -79.38533|       43.64856|            Floating|\n",
      "| 807453851648|AR0RCMP1187FB3F427|1992|133.32853|         1|       -94.10158|       30.08615|It Makes No Diffe...|\n",
      "| 953482739712|ARPBNLO1187FB3D52F|2000| 43.36281|         1|       -74.00712|       40.71455|I Hold Your Hand ...|\n",
      "|1005022347265|ARMJAGH1187FB546F3|1969|148.03546|         1|       -90.04892|       35.14968|           Soul Deep|\n",
      "|1030792151040|ARAJPHH1187FB5566A|1964|164.80608|         1|       -73.83168|        40.7038|     Twist and Shout|\n",
      "|1151051235328|ARMAC4T1187FB3FA4C|2004|207.77751|         1|       -74.47995|       40.82624|Setting Fire to S...|\n",
      "|1211180777472|AR0IAWL1187B9A96D0|2003|197.19791|         1|       -80.11278|         8.4177|         Native Soul|\n",
      "+-------------+------------------+----+---------+----------+----------------+---------------+--------------------+\n",
      "only showing top 10 rows\n",
      "\n"
     ]
    }
   ],
   "source": [
    "df_copy1.select('song_id', 'artist_id', 'year', 'duration', 'row_number', 'artist_longitude', 'artist_latitude', 'title').\\\n",
    "filter(col('year') != 0).filter(col('artist_latitude') != 0.0).show(10)"
   ]
  },
  {
   "cell_type": "code",
   "execution_count": 161,
   "metadata": {},
   "outputs": [
    {
     "name": "stdout",
     "output_type": "stream",
     "text": [
      "+-------------+------------------+----+---------+----------+---------+--------+--------------------+\n",
      "|      song_id|            artist|year| duration|row_number|longitude|latitude|               title|\n",
      "+-------------+------------------+----+---------+----------+---------+--------+--------------------+\n",
      "| 429496729600|ARDNS031187B9924F0|2005|186.48771|         1|-83.22295|32.67828|I Think My Wife I...|\n",
      "| 575525617664|ARH4Z031187B9A71F2|1961|156.39465|         1|-74.17418|40.73197|Crazy Mixed Up World|\n",
      "| 584115552256|AR3JMC51187B9AE49D|1999|236.25098|         1|-81.37739|28.53823|    Larger Than Life|\n",
      "| 644245094400|ARD842G1187B997376|1987|491.12771|         1|-79.38533|43.64856|            Floating|\n",
      "| 807453851648|AR0RCMP1187FB3F427|1992|133.32853|         1|-94.10158|30.08615|It Makes No Diffe...|\n",
      "| 953482739712|ARPBNLO1187FB3D52F|2000| 43.36281|         1|-74.00712|40.71455|I Hold Your Hand ...|\n",
      "|1005022347265|ARMJAGH1187FB546F3|1969|148.03546|         1|-90.04892|35.14968|           Soul Deep|\n",
      "|1030792151040|ARAJPHH1187FB5566A|1964|164.80608|         1|-73.83168| 40.7038|     Twist and Shout|\n",
      "|1151051235328|ARMAC4T1187FB3FA4C|2004|207.77751|         1|-74.47995|40.82624|Setting Fire to S...|\n",
      "|1211180777472|AR0IAWL1187B9A96D0|2003|197.19791|         1|-80.11278|  8.4177|         Native Soul|\n",
      "+-------------+------------------+----+---------+----------+---------+--------+--------------------+\n",
      "only showing top 10 rows\n",
      "\n"
     ]
    }
   ],
   "source": [
    "df_copy1.selectExpr('song_id', 'artist_id as artist', 'year', 'duration', 'row_number', 'artist_longitude as longitude', 'artist_latitude as latitude', 'title').\\\n",
    "filter(col('year') != 0).filter(col('artist_latitude') != 0.0).show(10)"
   ]
  },
  {
   "cell_type": "code",
   "execution_count": 162,
   "metadata": {},
   "outputs": [
    {
     "data": {
      "text/plain": [
       "28"
      ]
     },
     "execution_count": 162,
     "metadata": {},
     "output_type": "execute_result"
    }
   ],
   "source": [
    "#empty values in artist_location column\n",
    "\n",
    "df_copy1.filter(col('artist_location') == '').count()"
   ]
  },
  {
   "cell_type": "code",
   "execution_count": 163,
   "metadata": {},
   "outputs": [],
   "source": [
    "def blank_as_null(x):\n",
    "    return when(col(x) != \"\", col(x)).otherwise('Missing_value')\n",
    "\n",
    "df_copy1 = df_copy1.withColumn(\"artist_location\", blank_as_null(\"artist_location\"))"
   ]
  },
  {
   "cell_type": "code",
   "execution_count": 164,
   "metadata": {},
   "outputs": [
    {
     "data": {
      "text/plain": [
       "0"
      ]
     },
     "execution_count": 164,
     "metadata": {},
     "output_type": "execute_result"
    }
   ],
   "source": [
    "df_copy1.filter(col('artist_location') == '').count() #no more empty values "
   ]
  },
  {
   "cell_type": "code",
   "execution_count": 165,
   "metadata": {},
   "outputs": [
    {
     "name": "stdout",
     "output_type": "stream",
     "text": [
      "+-------------+------------------+----+---------+----------+--------------------+---------+--------+--------------------+\n",
      "|      song_id|            artist|year| duration|row_number|            location|longitude|latitude|               title|\n",
      "+-------------+------------------+----+---------+----------+--------------------+---------+--------+--------------------+\n",
      "| 429496729600|ARDNS031187B9924F0|2005|186.48771|         1|             Georgia|-83.22295|32.67828|I Think My Wife I...|\n",
      "| 575525617664|ARH4Z031187B9A71F2|1961|156.39465|         1|          Newark, NJ|-74.17418|40.73197|Crazy Mixed Up World|\n",
      "| 584115552256|AR3JMC51187B9AE49D|1999|236.25098|         1|         Orlando, FL|-81.37739|28.53823|    Larger Than Life|\n",
      "| 644245094400|ARD842G1187B997376|1987|491.12771|         1|Toronto, Ontario,...|-79.38533|43.64856|            Floating|\n",
      "| 807453851648|AR0RCMP1187FB3F427|1992|133.32853|         1|        Beaumont, TX|-94.10158|30.08615|It Makes No Diffe...|\n",
      "| 953482739712|ARPBNLO1187FB3D52F|2000| 43.36281|         1|        New York, NY|-74.00712|40.71455|I Hold Your Hand ...|\n",
      "|1005022347265|ARMJAGH1187FB546F3|1969|148.03546|         1|         Memphis, TN|-90.04892|35.14968|           Soul Deep|\n",
      "|1030792151040|ARAJPHH1187FB5566A|1964|164.80608|         1|          Queens, NY|-73.83168| 40.7038|     Twist and Shout|\n",
      "|1151051235328|ARMAC4T1187FB3FA4C|2004|207.77751|         1|   Morris Plains, NJ|-74.47995|40.82624|Setting Fire to S...|\n",
      "|1211180777472|AR0IAWL1187B9A96D0|2003|197.19791|         1|              Panama|-80.11278|  8.4177|         Native Soul|\n",
      "+-------------+------------------+----+---------+----------+--------------------+---------+--------+--------------------+\n",
      "only showing top 10 rows\n",
      "\n"
     ]
    }
   ],
   "source": [
    "df_copy1.selectExpr('song_id', 'artist_id as artist', 'year', 'duration', 'row_number', 'artist_location as location', 'artist_longitude as longitude', 'artist_latitude as latitude', 'title').\\\n",
    "filter(col('year') != 0).filter(col('artist_latitude') != 0.0).show(10)"
   ]
  },
  {
   "cell_type": "code",
   "execution_count": 166,
   "metadata": {},
   "outputs": [
    {
     "name": "stdout",
     "output_type": "stream",
     "text": [
      "+--------------------+\n",
      "|            location|\n",
      "+--------------------+\n",
      "|       Missing_value|\n",
      "|         Memphis, TN|\n",
      "|   Beverly Hills, CA|\n",
      "|       Missing_value|\n",
      "|             Brandon|\n",
      "|       Missing_value|\n",
      "|     Gainesville, FL|\n",
      "|       Missing_value|\n",
      "|       Missing_value|\n",
      "|     London, England|\n",
      "|       Missing_value|\n",
      "|          Newark, NJ|\n",
      "|       Missing_value|\n",
      "|Seattle, Washingt...|\n",
      "|       Missing_value|\n",
      "|       Missing_value|\n",
      "|       United States|\n",
      "|        New York, NY|\n",
      "|       Missing_value|\n",
      "|      North Carolina|\n",
      "+--------------------+\n",
      "only showing top 20 rows\n",
      "\n"
     ]
    }
   ],
   "source": [
    "df_copy1.selectExpr('artist_location as location').show()"
   ]
  },
  {
   "cell_type": "code",
   "execution_count": 167,
   "metadata": {},
   "outputs": [
    {
     "data": {
      "text/plain": [
       "DataFrame[artist_id: string, artist_latitude: double, artist_location: string, artist_longitude: double, artist_name: string, duration: double, num_songs: int, title: string, year: int, row_number: int, song_id: bigint]"
      ]
     },
     "execution_count": 167,
     "metadata": {},
     "output_type": "execute_result"
    }
   ],
   "source": [
    "df_copy1"
   ]
  },
  {
   "cell_type": "code",
   "execution_count": 168,
   "metadata": {},
   "outputs": [
    {
     "name": "stdout",
     "output_type": "stream",
     "text": [
      "+-------------+------------------+----+---------+----------+--------------------+---------+--------+--------------------+\n",
      "|      song_id|            artist|year| duration|row_number|            location|longitude|latitude|               title|\n",
      "+-------------+------------------+----+---------+----------+--------------------+---------+--------+--------------------+\n",
      "| 429496729600|ARDNS031187B9924F0|2005|186.48771|         1|             Georgia|-83.22295|32.67828|I Think My Wife I...|\n",
      "| 575525617664|ARH4Z031187B9A71F2|1961|156.39465|         1|          Newark, NJ|-74.17418|40.73197|Crazy Mixed Up World|\n",
      "| 584115552256|AR3JMC51187B9AE49D|1999|236.25098|         1|         Orlando, FL|-81.37739|28.53823|    Larger Than Life|\n",
      "| 644245094400|ARD842G1187B997376|1987|491.12771|         1|Toronto, Ontario,...|-79.38533|43.64856|            Floating|\n",
      "| 807453851648|AR0RCMP1187FB3F427|1992|133.32853|         1|        Beaumont, TX|-94.10158|30.08615|It Makes No Diffe...|\n",
      "| 953482739712|ARPBNLO1187FB3D52F|2000| 43.36281|         1|        New York, NY|-74.00712|40.71455|I Hold Your Hand ...|\n",
      "|1005022347265|ARMJAGH1187FB546F3|1969|148.03546|         1|         Memphis, TN|-90.04892|35.14968|           Soul Deep|\n",
      "|1030792151040|ARAJPHH1187FB5566A|1964|164.80608|         1|          Queens, NY|-73.83168| 40.7038|     Twist and Shout|\n",
      "|1151051235328|ARMAC4T1187FB3FA4C|2004|207.77751|         1|   Morris Plains, NJ|-74.47995|40.82624|Setting Fire to S...|\n",
      "|1211180777472|AR0IAWL1187B9A96D0|2003|197.19791|         1|              Panama|-80.11278|  8.4177|         Native Soul|\n",
      "+-------------+------------------+----+---------+----------+--------------------+---------+--------+--------------------+\n",
      "only showing top 10 rows\n",
      "\n"
     ]
    }
   ],
   "source": [
    "df_copy1.selectExpr('song_id', 'artist_id as artist', 'year', 'duration', 'row_number', 'artist_location as location', 'artist_longitude as longitude', 'artist_latitude as latitude', 'title').\\\n",
    "filter(col('year') != 0).filter(col('artist_latitude') != 0.0).filter(col('artist_location') != 'Missing_value').show(10)"
   ]
  },
  {
   "cell_type": "code",
   "execution_count": 141,
   "metadata": {},
   "outputs": [
    {
     "data": {
      "text/plain": [
       "28"
      ]
     },
     "execution_count": 141,
     "metadata": {},
     "output_type": "execute_result"
    }
   ],
   "source": [
    "#df_copy1.select('artist_location').withColumn('null_loc',col('artist_location').isNull()).where('null_loc = True').count()"
   ]
  },
  {
   "cell_type": "code",
   "execution_count": 177,
   "metadata": {},
   "outputs": [
    {
     "name": "stdout",
     "output_type": "stream",
     "text": [
      "+-------------+\n",
      "|location     |\n",
      "+-------------+\n",
      "|Missing_value|\n",
      "|Missing_value|\n",
      "|Missing_value|\n",
      "|Missing_value|\n",
      "|Missing_value|\n",
      "|Missing_value|\n",
      "|Missing_value|\n",
      "|Missing_value|\n",
      "|Missing_value|\n",
      "|Missing_value|\n",
      "|Missing_value|\n",
      "|Missing_value|\n",
      "|Missing_value|\n",
      "|Missing_value|\n",
      "|Missing_value|\n",
      "|Missing_value|\n",
      "|Missing_value|\n",
      "|Missing_value|\n",
      "|Missing_value|\n",
      "|Missing_value|\n",
      "|Missing_value|\n",
      "|Missing_value|\n",
      "|Missing_value|\n",
      "|Missing_value|\n",
      "|Missing_value|\n",
      "|Missing_value|\n",
      "|Missing_value|\n",
      "|Missing_value|\n",
      "+-------------+\n",
      "\n"
     ]
    }
   ],
   "source": [
    "#shows all the missing values\n",
    "\n",
    "df_copy1.selectExpr('artist_location as location').where(col('location') == 'Missing_value').show(df_copy1.count(), False)"
   ]
  },
  {
   "cell_type": "code",
   "execution_count": 178,
   "metadata": {},
   "outputs": [
    {
     "name": "stdout",
     "output_type": "stream",
     "text": [
      "+-------------+------------------+----+---------+----------+-----------------------------+---------+--------+----------------------------------------------------+\n",
      "|song_id      |artist            |year|duration |row_number|location                     |longitude|latitude|title                                               |\n",
      "+-------------+------------------+----+---------+----------+-----------------------------+---------+--------+----------------------------------------------------+\n",
      "|429496729600 |ARDNS031187B9924F0|2005|186.48771|1         |Georgia                      |-83.22295|32.67828|I Think My Wife Is Running Around On Me (Taco Hell) |\n",
      "|575525617664 |ARH4Z031187B9A71F2|1961|156.39465|1         |Newark, NJ                   |-74.17418|40.73197|Crazy Mixed Up World                                |\n",
      "|584115552256 |AR3JMC51187B9AE49D|1999|236.25098|1         |Orlando, FL                  |-81.37739|28.53823|Larger Than Life                                    |\n",
      "|644245094400 |ARD842G1187B997376|1987|491.12771|1         |Toronto, Ontario, Canada     |-79.38533|43.64856|Floating                                            |\n",
      "|807453851648 |AR0RCMP1187FB3F427|1992|133.32853|1         |Beaumont, TX                 |-94.10158|30.08615|It Makes No Difference Now                          |\n",
      "|953482739712 |ARPBNLO1187FB3D52F|2000|43.36281 |1         |New York, NY                 |-74.00712|40.71455|I Hold Your Hand In Mine [Live At Royal Albert Hall]|\n",
      "|1005022347265|ARMJAGH1187FB546F3|1969|148.03546|1         |Memphis, TN                  |-90.04892|35.14968|Soul Deep                                           |\n",
      "|1030792151040|ARAJPHH1187FB5566A|1964|164.80608|1         |Queens, NY                   |-73.83168|40.7038 |Twist and Shout                                     |\n",
      "|1151051235328|ARMAC4T1187FB3FA4C|2004|207.77751|1         |Morris Plains, NJ            |-74.47995|40.82624|Setting Fire to Sleeping Giants                     |\n",
      "|1211180777472|AR0IAWL1187B9A96D0|2003|197.19791|1         |Panama                       |-80.11278|8.4177  |Native Soul                                         |\n",
      "|1236950581249|ARB29H41187B98F0EF|1972|342.56934|1         |Chicago                      |-87.63241|41.88415|Do You Finally Need A Friend                        |\n",
      "|1236950581250|AROUOZZ1187B9ABE51|1997|168.25424|1         |New York, NY [Spanish Harlem]|-73.94512|40.79195|Spanish Grease                                      |\n",
      "|1494648619008|ARNF6401187FB57032|1994|305.162  |1         |New York, NY [Manhattan]     |-73.96644|40.79086|The Ballad Of Sleeping Beauty                       |\n",
      "|1554778161152|AR47JEX1187B995D81|1985|124.86485|1         |Nevada, MO                   |-94.35868|37.83721|James (Hold The Ladder Steady)                      |\n",
      "+-------------+------------------+----+---------+----------+-----------------------------+---------+--------+----------------------------------------------------+\n",
      "\n"
     ]
    }
   ],
   "source": [
    "df_copy1.selectExpr('song_id', 'artist_id as artist', 'year', 'duration', 'row_number', 'artist_location as location', 'artist_longitude as longitude', 'artist_latitude as latitude', 'title').\\\n",
    "filter(col('year') != 0).filter(col('artist_latitude') != 0.0).\\\n",
    "filter(col('artist_location') != 'Missing_value').show(df_copy1.count(), False)"
   ]
  },
  {
   "cell_type": "code",
   "execution_count": 179,
   "metadata": {},
   "outputs": [
    {
     "data": {
      "text/plain": [
       "14"
      ]
     },
     "execution_count": 179,
     "metadata": {},
     "output_type": "execute_result"
    }
   ],
   "source": [
    "df_copy1.selectExpr('song_id', 'artist_id as artist', 'year', 'duration', 'row_number', 'artist_location as location', 'artist_longitude as longitude', 'artist_latitude as latitude', 'title').\\\n",
    "filter(col('year') != 0).filter(col('artist_latitude') != 0.0).\\\n",
    "filter(col('artist_location') != 'Missing_value').count()"
   ]
  },
  {
   "cell_type": "code",
   "execution_count": 239,
   "metadata": {},
   "outputs": [],
   "source": [
    "log_data = spark.read.json(\"log-data/*.json\")"
   ]
  },
  {
   "cell_type": "code",
   "execution_count": 240,
   "metadata": {},
   "outputs": [],
   "source": [
    "log_data = log_data.withColumn(\"songplay_id\", monotonically_increasing_id())"
   ]
  },
  {
   "cell_type": "code",
   "execution_count": 241,
   "metadata": {},
   "outputs": [
    {
     "data": {
      "text/plain": [
       "DataFrame[artist: string, auth: string, firstName: string, gender: string, itemInSession: bigint, lastName: string, length: double, level: string, location: string, method: string, page: string, registration: double, sessionId: bigint, song: string, status: bigint, ts: bigint, userAgent: string, userId: string, songplay_id: bigint]"
      ]
     },
     "execution_count": 241,
     "metadata": {},
     "output_type": "execute_result"
    }
   ],
   "source": [
    "log_data"
   ]
  },
  {
   "cell_type": "code",
   "execution_count": 242,
   "metadata": {},
   "outputs": [
    {
     "name": "stdout",
     "output_type": "stream",
     "text": [
      "+-------------+\n",
      "|           ts|\n",
      "+-------------+\n",
      "|1542241826796|\n",
      "|1542242481796|\n",
      "|1542242741796|\n",
      "|1542247071796|\n",
      "|1542252577796|\n",
      "+-------------+\n",
      "only showing top 5 rows\n",
      "\n"
     ]
    }
   ],
   "source": [
    "log_data.select('ts').show(5)"
   ]
  },
  {
   "cell_type": "code",
   "execution_count": 47,
   "metadata": {},
   "outputs": [
    {
     "data": {
      "text/plain": [
       "Column<b'ts'>"
      ]
     },
     "execution_count": 47,
     "metadata": {},
     "output_type": "execute_result"
    }
   ],
   "source": [
    "log_data.ts"
   ]
  },
  {
   "cell_type": "code",
   "execution_count": 52,
   "metadata": {},
   "outputs": [
    {
     "name": "stdout",
     "output_type": "stream",
     "text": [
      "+-------------------+\n",
      "|                 ts|\n",
      "+-------------------+\n",
      "|2018-11-14 22:29:37|\n",
      "+-------------------+\n",
      "\n"
     ]
    }
   ],
   "source": [
    "spark.sql(\"select timestamp(from_unixtime(1542252577796/1000,'yyyy-MM-dd HH:mm:ss.SS')) as ts\").show()"
   ]
  },
  {
   "cell_type": "code",
   "execution_count": null,
   "metadata": {},
   "outputs": [],
   "source": []
  },
  {
   "cell_type": "code",
   "execution_count": 243,
   "metadata": {},
   "outputs": [],
   "source": [
    "log_data = log_data.withColumn(\"start_time\", from_unixtime(col(\"ts\")/1000, 'yyyy-MM-dd HH:mm:ss.SS').cast(\"timestamp\"))"
   ]
  },
  {
   "cell_type": "code",
   "execution_count": 244,
   "metadata": {},
   "outputs": [
    {
     "data": {
      "text/plain": [
       "DataFrame[artist: string, auth: string, firstName: string, gender: string, itemInSession: bigint, lastName: string, length: double, level: string, location: string, method: string, page: string, registration: double, sessionId: bigint, song: string, status: bigint, ts: bigint, userAgent: string, userId: string, songplay_id: bigint, start_time: timestamp]"
      ]
     },
     "execution_count": 244,
     "metadata": {},
     "output_type": "execute_result"
    }
   ],
   "source": [
    "log_data"
   ]
  },
  {
   "cell_type": "code",
   "execution_count": 245,
   "metadata": {
    "scrolled": false
   },
   "outputs": [
    {
     "name": "stdout",
     "output_type": "stream",
     "text": [
      "+-------------------+\n",
      "|         start_time|\n",
      "+-------------------+\n",
      "|2018-11-14 19:30:26|\n",
      "|2018-11-14 19:41:21|\n",
      "|2018-11-14 19:45:41|\n",
      "|2018-11-14 20:57:51|\n",
      "|2018-11-14 22:29:37|\n",
      "|2018-11-14 22:44:09|\n",
      "|2018-11-14 22:44:20|\n",
      "|2018-11-15 00:34:34|\n",
      "|2018-11-15 00:37:57|\n",
      "|2018-11-15 00:48:55|\n",
      "|2018-11-15 00:53:44|\n",
      "|2018-11-15 00:55:56|\n",
      "|2018-11-15 01:01:02|\n",
      "|2018-11-15 01:01:53|\n",
      "|2018-11-15 01:07:37|\n",
      "|2018-11-15 01:10:33|\n",
      "|2018-11-15 01:13:54|\n",
      "|2018-11-15 01:14:16|\n",
      "|2018-11-15 01:17:59|\n",
      "|2018-11-15 01:18:48|\n",
      "|2018-11-15 01:21:33|\n",
      "|2018-11-15 01:25:58|\n",
      "|2018-11-15 01:29:38|\n",
      "|2018-11-15 02:03:44|\n",
      "|2018-11-15 02:08:36|\n",
      "|2018-11-15 02:12:09|\n",
      "|2018-11-15 02:28:47|\n",
      "|2018-11-15 02:31:55|\n",
      "|2018-11-15 02:35:51|\n",
      "|2018-11-15 02:41:05|\n",
      "|2018-11-15 02:43:35|\n",
      "|2018-11-15 02:45:25|\n",
      "|2018-11-15 02:47:23|\n",
      "|2018-11-15 02:49:24|\n",
      "|2018-11-15 02:49:47|\n",
      "|2018-11-15 02:50:05|\n",
      "|2018-11-15 02:51:04|\n",
      "|2018-11-15 02:56:18|\n",
      "|2018-11-15 04:39:43|\n",
      "|2018-11-15 04:50:22|\n",
      "|2018-11-15 04:50:30|\n",
      "|2018-11-15 04:50:37|\n",
      "|2018-11-15 04:54:18|\n",
      "|2018-11-15 04:58:34|\n",
      "|2018-11-15 05:01:39|\n",
      "|2018-11-15 05:02:54|\n",
      "|2018-11-15 05:07:08|\n",
      "|2018-11-15 05:07:36|\n",
      "|2018-11-15 05:11:00|\n",
      "|2018-11-15 05:11:16|\n",
      "+-------------------+\n",
      "only showing top 50 rows\n",
      "\n"
     ]
    }
   ],
   "source": [
    "log_data.select('start_time').show(50)"
   ]
  },
  {
   "cell_type": "code",
   "execution_count": 246,
   "metadata": {},
   "outputs": [],
   "source": [
    "log_copy = log_data"
   ]
  },
  {
   "cell_type": "code",
   "execution_count": 247,
   "metadata": {},
   "outputs": [],
   "source": [
    "log_copy = log_copy.dropDuplicates()"
   ]
  },
  {
   "cell_type": "code",
   "execution_count": 248,
   "metadata": {
    "scrolled": false
   },
   "outputs": [
    {
     "data": {
      "text/plain": [
       "6820"
      ]
     },
     "execution_count": 248,
     "metadata": {},
     "output_type": "execute_result"
    }
   ],
   "source": [
    "log_copy.select('page').where(col('page') == 'NextSong').count()"
   ]
  },
  {
   "cell_type": "code",
   "execution_count": 101,
   "metadata": {},
   "outputs": [],
   "source": [
    "log_copy1 = log_copy.where(col('page') == 'NextSong')"
   ]
  },
  {
   "cell_type": "code",
   "execution_count": 102,
   "metadata": {},
   "outputs": [
    {
     "data": {
      "text/plain": [
       "19"
      ]
     },
     "execution_count": 102,
     "metadata": {},
     "output_type": "execute_result"
    }
   ],
   "source": [
    "len(log_copy1.columns)"
   ]
  },
  {
   "cell_type": "code",
   "execution_count": 74,
   "metadata": {},
   "outputs": [
    {
     "data": {
      "text/plain": [
       "6820"
      ]
     },
     "execution_count": 74,
     "metadata": {},
     "output_type": "execute_result"
    }
   ],
   "source": [
    "log_copy1.count()"
   ]
  },
  {
   "cell_type": "code",
   "execution_count": 249,
   "metadata": {},
   "outputs": [],
   "source": [
    "log_copy1 = log_copy.filter(col('page') == 'NextSong') #no difference btw WHERE & FILTER"
   ]
  },
  {
   "cell_type": "code",
   "execution_count": 250,
   "metadata": {},
   "outputs": [
    {
     "data": {
      "text/plain": [
       "6820"
      ]
     },
     "execution_count": 250,
     "metadata": {},
     "output_type": "execute_result"
    }
   ],
   "source": [
    "log_copy1.count()"
   ]
  },
  {
   "cell_type": "code",
   "execution_count": 251,
   "metadata": {},
   "outputs": [],
   "source": [
    "time_data = log_copy1.selectExpr('start_time').withColumn('week', weekofyear(col('start_time'))).withColumn('year', year(col('start_time')))\\\n",
    ".withColumn('month', month(col('start_time'))).withColumn('day', dayofmonth(col('start_time'))).withColumn('Day_of_Week', dayofweek(col('start_time')))\\\n",
    ".withColumn('Hour', hour(col('start_time')))"
   ]
  },
  {
   "cell_type": "code",
   "execution_count": 252,
   "metadata": {},
   "outputs": [
    {
     "name": "stdout",
     "output_type": "stream",
     "text": [
      "+-------------------+----+----+-----+---+-----------+----+\n",
      "|         start_time|week|year|month|day|Day_of_Week|Hour|\n",
      "+-------------------+----+----+-----+---+-----------+----+\n",
      "|2018-11-15 08:03:38|  46|2018|   11| 15|          5|   8|\n",
      "|2018-11-15 11:54:20|  46|2018|   11| 15|          5|  11|\n",
      "|2018-11-15 12:25:45|  46|2018|   11| 15|          5|  12|\n",
      "|2018-11-15 16:25:45|  46|2018|   11| 15|          5|  16|\n",
      "|2018-11-15 16:48:15|  46|2018|   11| 15|          5|  16|\n",
      "+-------------------+----+----+-----+---+-----------+----+\n",
      "only showing top 5 rows\n",
      "\n"
     ]
    }
   ],
   "source": [
    "time_data.show(5)"
   ]
  },
  {
   "cell_type": "code",
   "execution_count": null,
   "metadata": {},
   "outputs": [],
   "source": [
    "#year, month, dayofmonth, hour, weekofyear, date_format"
   ]
  },
  {
   "cell_type": "code",
   "execution_count": null,
   "metadata": {},
   "outputs": [],
   "source": [
    "#userid, firstname, lastname, gender, level\n",
    "\n",
    "#DataFrame[artist: string, auth: string, firstName: string, gender: string, itemInSession: bigint, lastName: string, length: double, level: string, location: string, method: string, page: string, registration: double, sessionId: bigint, song: string, status: bigint, ts: bigint, userAgent: string, userId: string, start_time: timestamp]"
   ]
  },
  {
   "cell_type": "code",
   "execution_count": 253,
   "metadata": {},
   "outputs": [],
   "source": [
    "user_data = log_copy1.selectExpr('cast (userId as int) userId', 'firstName', 'lastName', 'gender', 'level', 'page')"
   ]
  },
  {
   "cell_type": "code",
   "execution_count": 254,
   "metadata": {},
   "outputs": [
    {
     "name": "stdout",
     "output_type": "stream",
     "text": [
      "+------+----------+--------+------+-----+--------+\n",
      "|userId| firstName|lastName|gender|level|    page|\n",
      "+------+----------+--------+------+-----+--------+\n",
      "|    30|     Avery| Watkins|     F| paid|NextSong|\n",
      "|    30|     Avery| Watkins|     F| paid|NextSong|\n",
      "|    42|    Harper| Barrett|     M| paid|NextSong|\n",
      "|    49|     Chloe|  Cuevas|     F| paid|NextSong|\n",
      "|    49|     Chloe|  Cuevas|     F| paid|NextSong|\n",
      "|    49|     Chloe|  Cuevas|     F| paid|NextSong|\n",
      "|    97|      Kate| Harrell|     F| paid|NextSong|\n",
      "|    15|      Lily|    Koch|     F| paid|NextSong|\n",
      "|    58|     Emily|  Benson|     F| paid|NextSong|\n",
      "|    29|Jacqueline|   Lynch|     F| paid|NextSong|\n",
      "+------+----------+--------+------+-----+--------+\n",
      "only showing top 10 rows\n",
      "\n"
     ]
    }
   ],
   "source": [
    "user_data.show(10)"
   ]
  },
  {
   "cell_type": "code",
   "execution_count": 107,
   "metadata": {},
   "outputs": [],
   "source": [
    "user_spec = Window.partitionBy(\"userId\").orderBy(desc(\"ts\"))"
   ]
  },
  {
   "cell_type": "code",
   "execution_count": 108,
   "metadata": {},
   "outputs": [],
   "source": [
    "df_log = log_copy1.withColumn(\"row_number\", row_number().over(user_spec))"
   ]
  },
  {
   "cell_type": "code",
   "execution_count": 109,
   "metadata": {},
   "outputs": [],
   "source": [
    "user_data1 = df_log.selectExpr('cast (userId as int) userId', 'firstName', 'lastName', 'gender', 'level', 'page')"
   ]
  },
  {
   "cell_type": "code",
   "execution_count": 110,
   "metadata": {},
   "outputs": [
    {
     "name": "stdout",
     "output_type": "stream",
     "text": [
      "+------+---------+---------+------+-----+--------+\n",
      "|userId|firstName| lastName|gender|level|    page|\n",
      "+------+---------+---------+------+-----+--------+\n",
      "|    80|    Tegan|   Levine|     F| paid|NextSong|\n",
      "|    80|    Tegan|   Levine|     F| paid|NextSong|\n",
      "|    44|   Aleena|    Kirby|     F| paid|NextSong|\n",
      "|    80|    Tegan|   Levine|     F| paid|NextSong|\n",
      "|    97|     Kate|  Harrell|     F| paid|NextSong|\n",
      "|    88| Mohammad|Rodriguez|     M| paid|NextSong|\n",
      "|    15|     Lily|     Koch|     F| paid|NextSong|\n",
      "|    49|    Chloe|   Cuevas|     F| paid|NextSong|\n",
      "|    95|     Sara|  Johnson|     F| paid|NextSong|\n",
      "|    16|    Rylan|   George|     M| paid|NextSong|\n",
      "+------+---------+---------+------+-----+--------+\n",
      "only showing top 10 rows\n",
      "\n"
     ]
    }
   ],
   "source": [
    "user_data1.show(10)"
   ]
  },
  {
   "cell_type": "code",
   "execution_count": 255,
   "metadata": {},
   "outputs": [
    {
     "data": {
      "text/plain": [
       "71"
      ]
     },
     "execution_count": 255,
     "metadata": {},
     "output_type": "execute_result"
    }
   ],
   "source": [
    "songs_table.count()"
   ]
  },
  {
   "cell_type": "code",
   "execution_count": 256,
   "metadata": {},
   "outputs": [
    {
     "data": {
      "text/plain": [
       "71"
      ]
     },
     "execution_count": 256,
     "metadata": {},
     "output_type": "execute_result"
    }
   ],
   "source": [
    "artist_table.count()"
   ]
  },
  {
   "cell_type": "code",
   "execution_count": 195,
   "metadata": {},
   "outputs": [
    {
     "data": {
      "text/plain": [
       "DataFrame[artist_id: string, artist_latitude: double, artist_location: string, artist_longitude: double, artist_name: string, duration: double, num_songs: int, title: string, year: int, song_id: bigint]"
      ]
     },
     "execution_count": 195,
     "metadata": {},
     "output_type": "execute_result"
    }
   ],
   "source": [
    "#song == title; artist == artist_name; duration == length; start_time == start_time \n",
    "\n",
    "df_copy1"
   ]
  },
  {
   "cell_type": "code",
   "execution_count": 196,
   "metadata": {},
   "outputs": [
    {
     "data": {
      "text/plain": [
       "DataFrame[artist: string, auth: string, firstName: string, gender: string, itemInSession: bigint, lastName: string, length: double, level: string, location: string, method: string, page: string, registration: double, sessionId: bigint, song: string, status: bigint, ts: bigint, userAgent: string, userId: string, start_time: timestamp]"
      ]
     },
     "execution_count": 196,
     "metadata": {},
     "output_type": "execute_result"
    }
   ],
   "source": [
    "log_copy1"
   ]
  },
  {
   "cell_type": "code",
   "execution_count": 1,
   "metadata": {},
   "outputs": [
    {
     "ename": "NameError",
     "evalue": "name 'copy_df' is not defined",
     "output_type": "error",
     "traceback": [
      "\u001b[1;31m---------------------------------------------------------------------------\u001b[0m",
      "\u001b[1;31mNameError\u001b[0m                                 Traceback (most recent call last)",
      "\u001b[1;32m<ipython-input-1-fa4f003341c1>\u001b[0m in \u001b[0;36m<module>\u001b[1;34m\u001b[0m\n\u001b[1;32m----> 1\u001b[1;33m \u001b[0mcopy_df\u001b[0m\u001b[1;33m.\u001b[0m\u001b[0mcreateOrReplaceTempView\u001b[0m\u001b[1;33m(\u001b[0m\u001b[1;34m\"songs_log\"\u001b[0m\u001b[1;33m)\u001b[0m\u001b[1;33m\u001b[0m\u001b[1;33m\u001b[0m\u001b[0m\n\u001b[0m\u001b[0;32m      2\u001b[0m \u001b[0mlog_copy1\u001b[0m\u001b[1;33m.\u001b[0m\u001b[0mcreateOrReplaceTempView\u001b[0m\u001b[1;33m(\u001b[0m\u001b[1;34m\"evts_log\"\u001b[0m\u001b[1;33m)\u001b[0m\u001b[1;33m\u001b[0m\u001b[1;33m\u001b[0m\u001b[0m\n\u001b[0;32m      3\u001b[0m \u001b[0mtime_data\u001b[0m\u001b[1;33m.\u001b[0m\u001b[0mcreateOrReplaceTempView\u001b[0m\u001b[1;33m(\u001b[0m\u001b[1;34m\"time_log\"\u001b[0m\u001b[1;33m)\u001b[0m\u001b[1;33m\u001b[0m\u001b[1;33m\u001b[0m\u001b[0m\n\u001b[0;32m      4\u001b[0m \u001b[1;33m\u001b[0m\u001b[0m\n\u001b[0;32m      5\u001b[0m \u001b[0mjoinDF\u001b[0m \u001b[1;33m=\u001b[0m \u001b[0mspark\u001b[0m\u001b[1;33m.\u001b[0m\u001b[0msql\u001b[0m\u001b[1;33m(\u001b[0m\u001b[1;34m\"select * from songs_log s JOIN evts_log e ON s.title = e.song JOIN time_log t ON t.start_time = e.start_time\"\u001b[0m\u001b[1;33m)\u001b[0m\u001b[1;33m\u001b[0m\u001b[1;33m\u001b[0m\u001b[0m\n",
      "\u001b[1;31mNameError\u001b[0m: name 'copy_df' is not defined"
     ]
    }
   ],
   "source": [
    "copy_df.createOrReplaceTempView(\"songs_log\")\n",
    "log_copy1.createOrReplaceTempView(\"evts_log\")\n",
    "time_data.createOrReplaceTempView(\"time_log\")\n",
    "\n",
    "joinDF = spark.sql(\"select * from songs_log s JOIN evts_log e ON s.title = e.song JOIN time_log t ON t.start_time = e.start_time\")\n"
   ]
  },
  {
   "cell_type": "code",
   "execution_count": 260,
   "metadata": {},
   "outputs": [
    {
     "data": {
      "text/plain": [
       "DataFrame[artist_id: string, artist_latitude: double, artist_location: string, artist_longitude: double, artist_name: string, duration: double, num_songs: int, song_id: string, title: string, year: int, artist: string, auth: string, firstName: string, gender: string, itemInSession: bigint, lastName: string, length: double, level: string, location: string, method: string, page: string, registration: double, sessionId: bigint, song: string, status: bigint, ts: bigint, userAgent: string, userId: string, songplay_id: bigint, start_time: timestamp, start_time: timestamp, week: int, year: int, month: int, day: int, Day_of_Week: int, Hour: int]"
      ]
     },
     "execution_count": 260,
     "metadata": {},
     "output_type": "execute_result"
    }
   ],
   "source": [
    "joinDF"
   ]
  },
  {
   "cell_type": "code",
   "execution_count": 158,
   "metadata": {},
   "outputs": [],
   "source": [
    "#start_time, user_id, level, song_id, artist_id, session_id, location, user_agent\n",
    "\n",
    "songplay_table = joinDF.selectExpr('song_id', 'userId', 'artist_id', 'sessionId', 'location', 'userAgent', 'e.start_time', 't.year', 't.month')"
   ]
  },
  {
   "cell_type": "code",
   "execution_count": 157,
   "metadata": {},
   "outputs": [
    {
     "name": "stdout",
     "output_type": "stream",
     "text": [
      "+-------------+------+------------------+---------+--------------------+--------------------+-------------------+----+-----+\n",
      "|      song_id|userId|         artist_id|sessionId|            location|           userAgent|         start_time|year|month|\n",
      "+-------------+------+------------------+---------+--------------------+--------------------+-------------------+----+-----+\n",
      "|1202590842880|    15|AR5KOSW1187FB35FF4|      818|Chicago-Napervill...|\"Mozilla/5.0 (X11...|2018-11-21 16:56:47|2018|   11|\n",
      "+-------------+------+------------------+---------+--------------------+--------------------+-------------------+----+-----+\n",
      "\n"
     ]
    }
   ],
   "source": [
    "songplay_table.show()"
   ]
  },
  {
   "cell_type": "code",
   "execution_count": 263,
   "metadata": {},
   "outputs": [
    {
     "name": "stdout",
     "output_type": "stream",
     "text": [
      "+-----------+------------------+------+------------------+---------+--------------------+--------------------+-------------------+----+-----+\n",
      "|songplay_id|           song_id|userId|         artist_id|sessionId|            location|           userAgent|         start_time|year|month|\n",
      "+-----------+------------------+------+------------------+---------+--------------------+--------------------+-------------------+----+-----+\n",
      "|       1016|SOZCTXZ12AB0182364|    15|AR5KOSW1187FB35FF4|      818|Chicago-Napervill...|\"Mozilla/5.0 (X11...|2018-11-21 16:56:47|2018|   11|\n",
      "|       1109|SOGDBUF12A8C140FAA|    10|AR558FS1187FB45658|      484|Washington-Arling...|\"Mozilla/5.0 (Mac...|2018-11-14 00:06:03|2018|   11|\n",
      "| 8589935837|SOGDBUF12A8C140FAA|    24|AR558FS1187FB45658|      672|Lake Havasu City-...|\"Mozilla/5.0 (Win...|2018-11-19 04:14:20|2018|   11|\n",
      "| 8589936296|SOGDBUF12A8C140FAA|    80|AR558FS1187FB45658|      992|Portland-South Po...|\"Mozilla/5.0 (Mac...|2018-11-27 17:35:59|2018|   11|\n",
      "+-----------+------------------+------+------------------+---------+--------------------+--------------------+-------------------+----+-----+\n",
      "\n"
     ]
    }
   ],
   "source": [
    "joinDF.selectExpr('songplay_id', 'song_id', 'userId', 'artist_id', 'sessionId', 'location', 'userAgent', 'e.start_time', 't.year', 't.month').show()"
   ]
  },
  {
   "cell_type": "code",
   "execution_count": 261,
   "metadata": {},
   "outputs": [
    {
     "data": {
      "text/plain": [
       "4"
      ]
     },
     "execution_count": 261,
     "metadata": {},
     "output_type": "execute_result"
    }
   ],
   "source": [
    "joinDF.count()"
   ]
  },
  {
   "cell_type": "code",
   "execution_count": null,
   "metadata": {},
   "outputs": [],
   "source": [
    "joinDF.select()"
   ]
  },
  {
   "cell_type": "code",
   "execution_count": 257,
   "metadata": {},
   "outputs": [],
   "source": [
    "#song == title; artist == artist_name; duration == length; start_time == start_time\n",
    "\n",
    "song_log = songs_table.join(log_copy1, songs_table.title == log_copy1.song)\n",
    "artist_log = artist_table.join(song_log, artist_table.name == song_log.artist)"
   ]
  },
  {
   "cell_type": "code",
   "execution_count": 258,
   "metadata": {},
   "outputs": [
    {
     "data": {
      "text/plain": [
       "1"
      ]
     },
     "execution_count": 258,
     "metadata": {},
     "output_type": "execute_result"
    }
   ],
   "source": [
    "artist_log.count()"
   ]
  },
  {
   "cell_type": "code",
   "execution_count": null,
   "metadata": {},
   "outputs": [],
   "source": []
  }
 ],
 "metadata": {
  "kernelspec": {
   "display_name": "Python 3",
   "language": "python",
   "name": "python3"
  },
  "language_info": {
   "codemirror_mode": {
    "name": "ipython",
    "version": 3
   },
   "file_extension": ".py",
   "mimetype": "text/x-python",
   "name": "python",
   "nbconvert_exporter": "python",
   "pygments_lexer": "ipython3",
   "version": "3.7.3"
  }
 },
 "nbformat": 4,
 "nbformat_minor": 2
}
