{
 "cells": [
  {
   "cell_type": "markdown",
   "metadata": {},
   "source": [
    "# Exploring various pyspark methods in python & Jupyter notebook"
   ]
  },
  {
   "cell_type": "code",
   "execution_count": 1,
   "metadata": {},
   "outputs": [],
   "source": [
    "import configparser\n",
    "from datetime import datetime\n",
    "import os\n",
    "import pyspark\n",
    "from pyspark.sql import SparkSession\n",
    "from pyspark.sql import Window\n",
    "from pyspark.sql.functions import row_number, desc, col, when, udf\n",
    "from pyspark.sql.functions import year, month, dayofmonth, hour, weekofyear, date_format, from_unixtime, dayofweek\n",
    "from pyspark.sql.functions import monotonically_increasing_id\n",
    "from pyspark.sql.types import StructType as R, StructField as Fld, DoubleType as Dbl, StringType as Str, IntegerType as Int, DateType as Dat, TimestampType, LongType"
   ]
  },
  {
   "cell_type": "code",
   "execution_count": 2,
   "metadata": {},
   "outputs": [],
   "source": [
    "# config = configparser.ConfigParser()\n",
    "# config.read('conff.cfg')\n",
    "\n",
    "# os.environ['AWS_ACCESS_KEY_ID']=config['AWS']['AWS_ACCESS_KEY_ID']\n",
    "# os.environ['AWS_SECRET_ACCESS_KEY']=config['AWS']['AWS_SECRET_ACCESS_KEY']"
   ]
  },
  {
   "cell_type": "code",
   "execution_count": 2,
   "metadata": {},
   "outputs": [],
   "source": [
    "# Create or retrieve a Spark Session\n",
    "spark = SparkSession \\\n",
    "        .builder \\\n",
    "        .config(\"spark.jars.packages\", \"org.apache.hadoop:hadoop-aws:2.7.0\")\\\n",
    "        .getOrCreate()"
   ]
  },
  {
   "cell_type": "code",
   "execution_count": 3,
   "metadata": {},
   "outputs": [
    {
     "data": {
      "text/html": [
       "\n",
       "            <div>\n",
       "                <p><b>SparkSession - hive</b></p>\n",
       "                \n",
       "        <div>\n",
       "            <p><b>SparkContext</b></p>\n",
       "\n",
       "            <p><a href=\"http://DESKTOP-7IF8JOV:4040\">Spark UI</a></p>\n",
       "\n",
       "            <dl>\n",
       "              <dt>Version</dt>\n",
       "                <dd><code>v2.4.4</code></dd>\n",
       "              <dt>Master</dt>\n",
       "                <dd><code>local[*]</code></dd>\n",
       "              <dt>AppName</dt>\n",
       "                <dd><code>PySparkShell</code></dd>\n",
       "            </dl>\n",
       "        </div>\n",
       "        \n",
       "            </div>\n",
       "        "
      ],
      "text/plain": [
       "<pyspark.sql.session.SparkSession at 0x2701ff0e5f8>"
      ]
     },
     "execution_count": 3,
     "metadata": {},
     "output_type": "execute_result"
    }
   ],
   "source": [
    "spark"
   ]
  },
  {
   "cell_type": "code",
   "execution_count": 4,
   "metadata": {},
   "outputs": [],
   "source": [
    "songSchema = R([\n",
    "        Fld(\"artist_id\",Str()),\n",
    "        Fld(\"artist_latitude\",Dbl()),\n",
    "        Fld(\"artist_location\",Str()),\n",
    "        Fld(\"artist_longitude\",Dbl()),\n",
    "        Fld(\"artist_name\",Str()),\n",
    "        Fld(\"duration\",Dbl()),\n",
    "        Fld(\"num_songs\",Int()),\n",
    "        Fld(\"song_id\",Str()),\n",
    "        Fld(\"title\",Str()),\n",
    "        Fld(\"year\",Int()),\n",
    "    ])"
   ]
  },
  {
   "cell_type": "code",
   "execution_count": 5,
   "metadata": {},
   "outputs": [],
   "source": [
    "input_data = spark.read.json(\"song_data/*/*/*/*.json\", schema = songSchema)"
   ]
  },
  {
   "cell_type": "code",
   "execution_count": 6,
   "metadata": {},
   "outputs": [
    {
     "data": {
      "text/plain": [
       "DataFrame[artist_id: string, artist_latitude: double, artist_location: string, artist_longitude: double, artist_name: string, duration: double, num_songs: int, song_id: string, title: string, year: int]"
      ]
     },
     "execution_count": 6,
     "metadata": {},
     "output_type": "execute_result"
    }
   ],
   "source": [
    "input_data"
   ]
  },
  {
   "cell_type": "code",
   "execution_count": 10,
   "metadata": {},
   "outputs": [],
   "source": [
    "copy_df = input_data"
   ]
  },
  {
   "cell_type": "code",
   "execution_count": 50,
   "metadata": {},
   "outputs": [
    {
     "data": {
      "text/html": [
       "<div>\n",
       "<style scoped>\n",
       "    .dataframe tbody tr th:only-of-type {\n",
       "        vertical-align: middle;\n",
       "    }\n",
       "\n",
       "    .dataframe tbody tr th {\n",
       "        vertical-align: top;\n",
       "    }\n",
       "\n",
       "    .dataframe thead th {\n",
       "        text-align: right;\n",
       "    }\n",
       "</style>\n",
       "<table border=\"1\" class=\"dataframe\">\n",
       "  <thead>\n",
       "    <tr style=\"text-align: right;\">\n",
       "      <th></th>\n",
       "      <th>artist_id</th>\n",
       "      <th>artist_latitude</th>\n",
       "      <th>artist_location</th>\n",
       "      <th>artist_longitude</th>\n",
       "      <th>artist_name</th>\n",
       "      <th>duration</th>\n",
       "      <th>num_songs</th>\n",
       "      <th>song_id</th>\n",
       "      <th>title</th>\n",
       "      <th>year</th>\n",
       "    </tr>\n",
       "  </thead>\n",
       "  <tbody>\n",
       "    <tr>\n",
       "      <th>19</th>\n",
       "      <td>ARBEBBY1187B9B43DB</td>\n",
       "      <td>NaN</td>\n",
       "      <td>Gainesville, FL</td>\n",
       "      <td>NaN</td>\n",
       "      <td>Tom Petty</td>\n",
       "      <td>236.17261</td>\n",
       "      <td>1</td>\n",
       "      <td>SOFFKZS12AB017F194</td>\n",
       "      <td>A Higher Place (Album Version)</td>\n",
       "      <td>1994</td>\n",
       "    </tr>\n",
       "    <tr>\n",
       "      <th>50</th>\n",
       "      <td>ARD0S291187B9B7BF5</td>\n",
       "      <td>NaN</td>\n",
       "      <td>Ohio</td>\n",
       "      <td>NaN</td>\n",
       "      <td>Rated R</td>\n",
       "      <td>114.78159</td>\n",
       "      <td>1</td>\n",
       "      <td>SOMJBYD12A6D4F8557</td>\n",
       "      <td>Keepin It Real (Skit)</td>\n",
       "      <td>0</td>\n",
       "    </tr>\n",
       "    <tr>\n",
       "      <th>17</th>\n",
       "      <td>ARMBR4Y1187B9990EB</td>\n",
       "      <td>37.77916</td>\n",
       "      <td>California - SF</td>\n",
       "      <td>-122.42005</td>\n",
       "      <td>David Martin</td>\n",
       "      <td>241.47546</td>\n",
       "      <td>1</td>\n",
       "      <td>SOTTDKS12AB018D69B</td>\n",
       "      <td>It Wont Be Christmas</td>\n",
       "      <td>0</td>\n",
       "    </tr>\n",
       "    <tr>\n",
       "      <th>48</th>\n",
       "      <td>ARGIWFO1187B9B55B7</td>\n",
       "      <td>NaN</td>\n",
       "      <td></td>\n",
       "      <td>NaN</td>\n",
       "      <td>Five Bolt Main</td>\n",
       "      <td>225.09669</td>\n",
       "      <td>1</td>\n",
       "      <td>SOPSWQW12A6D4F8781</td>\n",
       "      <td>Made Like This (Live)</td>\n",
       "      <td>0</td>\n",
       "    </tr>\n",
       "    <tr>\n",
       "      <th>54</th>\n",
       "      <td>ARJIE2Y1187B994AB7</td>\n",
       "      <td>NaN</td>\n",
       "      <td></td>\n",
       "      <td>NaN</td>\n",
       "      <td>Line Renaud</td>\n",
       "      <td>152.92036</td>\n",
       "      <td>1</td>\n",
       "      <td>SOUPIRU12A6D4FA1E1</td>\n",
       "      <td>Der Kleine Dompfaff</td>\n",
       "      <td>0</td>\n",
       "    </tr>\n",
       "  </tbody>\n",
       "</table>\n",
       "</div>"
      ],
      "text/plain": [
       "             artist_id  artist_latitude  artist_location  artist_longitude  \\\n",
       "19  ARBEBBY1187B9B43DB              NaN  Gainesville, FL               NaN   \n",
       "50  ARD0S291187B9B7BF5              NaN             Ohio               NaN   \n",
       "17  ARMBR4Y1187B9990EB         37.77916  California - SF        -122.42005   \n",
       "48  ARGIWFO1187B9B55B7              NaN                                NaN   \n",
       "54  ARJIE2Y1187B994AB7              NaN                                NaN   \n",
       "\n",
       "       artist_name   duration  num_songs             song_id  \\\n",
       "19       Tom Petty  236.17261          1  SOFFKZS12AB017F194   \n",
       "50         Rated R  114.78159          1  SOMJBYD12A6D4F8557   \n",
       "17    David Martin  241.47546          1  SOTTDKS12AB018D69B   \n",
       "48  Five Bolt Main  225.09669          1  SOPSWQW12A6D4F8781   \n",
       "54     Line Renaud  152.92036          1  SOUPIRU12A6D4FA1E1   \n",
       "\n",
       "                             title  year  \n",
       "19  A Higher Place (Album Version)  1994  \n",
       "50           Keepin It Real (Skit)     0  \n",
       "17            It Wont Be Christmas     0  \n",
       "48           Made Like This (Live)     0  \n",
       "54             Der Kleine Dompfaff     0  "
      ]
     },
     "execution_count": 50,
     "metadata": {},
     "output_type": "execute_result"
    }
   ],
   "source": [
    "song_df = copy_df.toPandas()\n",
    "\n",
    "song_df.sample(5)"
   ]
  },
  {
   "cell_type": "code",
   "execution_count": 51,
   "metadata": {},
   "outputs": [
    {
     "name": "stdout",
     "output_type": "stream",
     "text": [
      "<class 'pandas.core.frame.DataFrame'>\n",
      "RangeIndex: 71 entries, 0 to 70\n",
      "Data columns (total 10 columns):\n",
      "artist_id           71 non-null object\n",
      "artist_latitude     31 non-null float64\n",
      "artist_location     71 non-null object\n",
      "artist_longitude    31 non-null float64\n",
      "artist_name         71 non-null object\n",
      "duration            71 non-null float64\n",
      "num_songs           71 non-null int32\n",
      "song_id             71 non-null object\n",
      "title               71 non-null object\n",
      "year                71 non-null int32\n",
      "dtypes: float64(3), int32(2), object(5)\n",
      "memory usage: 5.1+ KB\n"
     ]
    }
   ],
   "source": [
    "song_df.info()"
   ]
  },
  {
   "cell_type": "code",
   "execution_count": 52,
   "metadata": {},
   "outputs": [
    {
     "name": "stdout",
     "output_type": "stream",
     "text": [
      "root\n",
      " |-- artist_id: string (nullable = true)\n",
      " |-- artist_latitude: double (nullable = true)\n",
      " |-- artist_location: string (nullable = true)\n",
      " |-- artist_longitude: double (nullable = true)\n",
      " |-- artist_name: string (nullable = true)\n",
      " |-- duration: double (nullable = true)\n",
      " |-- num_songs: integer (nullable = true)\n",
      " |-- song_id: string (nullable = true)\n",
      " |-- title: string (nullable = true)\n",
      " |-- year: integer (nullable = true)\n",
      "\n"
     ]
    }
   ],
   "source": [
    "copy_df.printSchema()"
   ]
  },
  {
   "cell_type": "code",
   "execution_count": 11,
   "metadata": {},
   "outputs": [],
   "source": [
    "def replace(x):\n",
    "    return when(col(x) != 0, col(x)).otherwise(None)\n",
    "\n",
    "copy_df = copy_df.withColumn(\"year\", replace(\"year\"))"
   ]
  },
  {
   "cell_type": "code",
   "execution_count": 12,
   "metadata": {},
   "outputs": [],
   "source": [
    "def blank_as_null(x):\n",
    "    return when(col(x) != \"\", col(x)).otherwise(None)\n",
    "\n",
    "copy_df = copy_df.withColumn(\"artist_location\", blank_as_null(\"artist_location\"))"
   ]
  },
  {
   "cell_type": "code",
   "execution_count": 13,
   "metadata": {},
   "outputs": [
    {
     "data": {
      "text/plain": [
       "DataFrame[artist_id: string, artist_latitude: double, artist_location: string, artist_longitude: double, artist_name: string, duration: double, num_songs: int, song_id: string, title: string, year: int]"
      ]
     },
     "execution_count": 13,
     "metadata": {},
     "output_type": "execute_result"
    }
   ],
   "source": [
    "copy_df"
   ]
  },
  {
   "cell_type": "code",
   "execution_count": 14,
   "metadata": {},
   "outputs": [],
   "source": [
    "#songs_table -- [\"title\", \"artist_id\",\"year\", \"duration\"]\n",
    "\n",
    "songs_table = copy_df.select('song_id', 'artist_id', 'year', 'duration', 'title')"
   ]
  },
  {
   "cell_type": "code",
   "execution_count": 15,
   "metadata": {},
   "outputs": [
    {
     "name": "stdout",
     "output_type": "stream",
     "text": [
      "+------------------+------------------+----+---------+--------------------+\n",
      "|           song_id|         artist_id|year| duration|               title|\n",
      "+------------------+------------------+----+---------+--------------------+\n",
      "|SOBAYLL12A8C138AF9|ARDR4AC1187FB371A1|null|511.16363|Sono andati? Fing...|\n",
      "|SOOLYAZ12A6701F4A6|AREBBGV1187FB523D2|null|173.66159|Laws Patrolling (...|\n",
      "|SOBBUGU12A8C13E95D|ARMAC4T1187FB3FA4C|2004|207.77751|Setting Fire to S...|\n",
      "|SOAOIBZ12AB01815BE|ARPBNLO1187FB3D52F|2000| 43.36281|I Hold Your Hand ...|\n",
      "|SONYPOM12A8C13B2D7|ARDNS031187B9924F0|2005|186.48771|I Think My Wife I...|\n",
      "+------------------+------------------+----+---------+--------------------+\n",
      "only showing top 5 rows\n",
      "\n"
     ]
    }
   ],
   "source": [
    "songs_table.show(5)"
   ]
  },
  {
   "cell_type": "code",
   "execution_count": 16,
   "metadata": {},
   "outputs": [],
   "source": [
    "artist_spec = Window.partitionBy(\"artist_id\").orderBy(desc(\"year\"))"
   ]
  },
  {
   "cell_type": "code",
   "execution_count": 18,
   "metadata": {},
   "outputs": [],
   "source": [
    "#artist-table -- artist, \"artist_name, \"artist_location, \"artist_latitude, artist_longitude\n",
    "\n",
    "artist_partition = copy_df.selectExpr('artist_id', 'artist_name as name', 'artist_location as location', 'artist_longitude as longitude', 'artist_latitude as latitude', 'year').withColumn(\"row_number\", row_number().over(artist_spec))\\\n",
    ".where(col('row_number') == 1)"
   ]
  },
  {
   "cell_type": "code",
   "execution_count": 22,
   "metadata": {},
   "outputs": [],
   "source": [
    "artist_table = artist_partition.selectExpr('artist_id as ID', 'name', 'location', 'longitude', 'latitude')"
   ]
  },
  {
   "cell_type": "code",
   "execution_count": 23,
   "metadata": {},
   "outputs": [
    {
     "name": "stdout",
     "output_type": "stream",
     "text": [
      "+------------------+--------------------+--------------------+---------+--------+\n",
      "|                ID|                name|            location|longitude|latitude|\n",
      "+------------------+--------------------+--------------------+---------+--------+\n",
      "|AR9AWNF1187B9AB0B4|Kenny G featuring...|Seattle, Washingt...|     null|    null|\n",
      "|AR0IAWL1187B9A96D0|        Danilo Perez|              Panama|-80.11278|  8.4177|\n",
      "|AR0RCMP1187FB3F427|    Billie Jo Spears|        Beaumont, TX|-94.10158|30.08615|\n",
      "|AREDL271187FB40F44|        Soul Mekanik|                null|     null|    null|\n",
      "|ARI3BMM1187FB4255E|        Alice Stuart|          Washington|  -77.029| 38.8991|\n",
      "+------------------+--------------------+--------------------+---------+--------+\n",
      "only showing top 5 rows\n",
      "\n"
     ]
    }
   ],
   "source": [
    "artist_table.show(5)"
   ]
  },
  {
   "cell_type": "code",
   "execution_count": 24,
   "metadata": {},
   "outputs": [],
   "source": [
    "log_data = spark.read.json(\"log-data/*.json\")"
   ]
  },
  {
   "cell_type": "code",
   "execution_count": 28,
   "metadata": {},
   "outputs": [],
   "source": [
    "log_data = log_data.withColumn(\"songplay_id\", monotonically_increasing_id())"
   ]
  },
  {
   "cell_type": "code",
   "execution_count": 29,
   "metadata": {},
   "outputs": [
    {
     "data": {
      "text/plain": [
       "DataFrame[artist: string, auth: string, firstName: string, gender: string, itemInSession: bigint, lastName: string, length: double, level: string, location: string, method: string, page: string, registration: double, sessionId: bigint, song: string, status: bigint, ts: bigint, userAgent: string, userId: string, songplay_id: bigint]"
      ]
     },
     "execution_count": 29,
     "metadata": {},
     "output_type": "execute_result"
    }
   ],
   "source": [
    "log_data"
   ]
  },
  {
   "cell_type": "code",
   "execution_count": 66,
   "metadata": {},
   "outputs": [
    {
     "data": {
      "text/plain": [
       "8056"
      ]
     },
     "execution_count": 66,
     "metadata": {},
     "output_type": "execute_result"
    }
   ],
   "source": [
    "log_data.count()"
   ]
  },
  {
   "cell_type": "code",
   "execution_count": 67,
   "metadata": {},
   "outputs": [
    {
     "name": "stdout",
     "output_type": "stream",
     "text": [
      "+-----------+-------------+\n",
      "|songplay_id|           ts|\n",
      "+-----------+-------------+\n",
      "|          0|1542241826796|\n",
      "|          1|1542242481796|\n",
      "|          2|1542242741796|\n",
      "|          3|1542247071796|\n",
      "|          4|1542252577796|\n",
      "+-----------+-------------+\n",
      "only showing top 5 rows\n",
      "\n"
     ]
    }
   ],
   "source": [
    "log_data.select('songplay_id', 'ts').show(5)"
   ]
  },
  {
   "cell_type": "code",
   "execution_count": 68,
   "metadata": {},
   "outputs": [
    {
     "name": "stdout",
     "output_type": "stream",
     "text": [
      "+-------------------+\n",
      "|                 ts|\n",
      "+-------------------+\n",
      "|2018-11-14 22:29:37|\n",
      "+-------------------+\n",
      "\n"
     ]
    }
   ],
   "source": [
    "spark.sql(\"select timestamp(from_unixtime(1542252577796/1000,'yyyy-MM-dd HH:mm:ss.SS')) as ts\").show()"
   ]
  },
  {
   "cell_type": "code",
   "execution_count": 38,
   "metadata": {},
   "outputs": [],
   "source": [
    "log_data = log_data.withColumn(\"start_time\", from_unixtime(col(\"ts\")/1000, 'yyyy-MM-dd HH:mm:ss.SS').cast(\"timestamp\"))"
   ]
  },
  {
   "cell_type": "code",
   "execution_count": 39,
   "metadata": {},
   "outputs": [
    {
     "name": "stdout",
     "output_type": "stream",
     "text": [
      "+-------------------+\n",
      "|         start_time|\n",
      "+-------------------+\n",
      "|2018-11-14 19:30:26|\n",
      "|2018-11-14 19:41:21|\n",
      "|2018-11-14 19:45:41|\n",
      "|2018-11-14 20:57:51|\n",
      "|2018-11-14 22:29:37|\n",
      "+-------------------+\n",
      "only showing top 5 rows\n",
      "\n"
     ]
    }
   ],
   "source": [
    "log_data.select('start_time').show(5)"
   ]
  },
  {
   "cell_type": "code",
   "execution_count": 40,
   "metadata": {},
   "outputs": [],
   "source": [
    "log_copy = log_data"
   ]
  },
  {
   "cell_type": "code",
   "execution_count": 41,
   "metadata": {},
   "outputs": [],
   "source": [
    "log_copy1 = log_copy.filter(col('page') == 'NextSong')"
   ]
  },
  {
   "cell_type": "code",
   "execution_count": 42,
   "metadata": {},
   "outputs": [],
   "source": [
    "time_data = log_copy1.selectExpr('start_time').dropDuplicates().withColumn('week', weekofyear(col('start_time'))).withColumn('year', year(col('start_time')))\\\n",
    ".withColumn('month', month(col('start_time'))).withColumn('day', dayofmonth(col('start_time'))).withColumn('Day_of_Week', dayofweek(col('start_time')))\\\n",
    ".withColumn('Hour', hour(col('start_time')))"
   ]
  },
  {
   "cell_type": "code",
   "execution_count": 43,
   "metadata": {},
   "outputs": [
    {
     "name": "stdout",
     "output_type": "stream",
     "text": [
      "+-------------------+----+----+-----+---+-----------+----+\n",
      "|         start_time|week|year|month|day|Day_of_Week|Hour|\n",
      "+-------------------+----+----+-----+---+-----------+----+\n",
      "|2018-11-21 05:52:12|  47|2018|   11| 21|          4|   5|\n",
      "|2018-11-21 14:46:29|  47|2018|   11| 21|          4|  14|\n",
      "|2018-11-13 23:37:40|  46|2018|   11| 13|          3|  23|\n",
      "|2018-11-14 07:14:41|  46|2018|   11| 14|          4|   7|\n",
      "|2018-11-14 11:19:02|  46|2018|   11| 14|          4|  11|\n",
      "+-------------------+----+----+-----+---+-----------+----+\n",
      "only showing top 5 rows\n",
      "\n"
     ]
    }
   ],
   "source": [
    "time_data.show(5)"
   ]
  },
  {
   "cell_type": "code",
   "execution_count": 35,
   "metadata": {},
   "outputs": [],
   "source": [
    "user_spec = Window.partitionBy(\"userId\").orderBy(desc(\"ts\"))"
   ]
  },
  {
   "cell_type": "code",
   "execution_count": 36,
   "metadata": {},
   "outputs": [],
   "source": [
    "user_partition = log_copy1.selectExpr('userId', 'firstName', 'lastName', 'gender', 'level', 'ts').withColumn(\"row_number\", row_number().over(user_spec))\\\n",
    ".where(col('row_number') == 1)"
   ]
  },
  {
   "cell_type": "code",
   "execution_count": 37,
   "metadata": {},
   "outputs": [
    {
     "name": "stdout",
     "output_type": "stream",
     "text": [
      "+------+---------+--------+------+-----+\n",
      "|userId|firstName|lastName|gender|level|\n",
      "+------+---------+--------+------+-----+\n",
      "|    51|     Maia|   Burke|     F| free|\n",
      "|     7|   Adelyn|  Jordan|     F| free|\n",
      "|    15|     Lily|    Koch|     F| paid|\n",
      "|    54|    Kaleb|    Cook|     M| free|\n",
      "|   101|   Jayden|     Fox|     M| free|\n",
      "+------+---------+--------+------+-----+\n",
      "only showing top 5 rows\n",
      "\n"
     ]
    }
   ],
   "source": [
    "user_table = user_partition.selectExpr('userId', 'firstName', 'lastName', 'gender', 'level').show(5)"
   ]
  },
  {
   "cell_type": "code",
   "execution_count": 78,
   "metadata": {},
   "outputs": [
    {
     "name": "stdout",
     "output_type": "stream",
     "text": [
      "+------+----------+--------+------+-----+-------------+----------+\n",
      "|userId| firstName|lastName|gender|level|           ts|row_number|\n",
      "+------+----------+--------+------+-----+-------------+----------+\n",
      "|    51|      Maia|   Burke|     F| free|1542673957796|         1|\n",
      "|     7|    Adelyn|  Jordan|     F| free|1542592496796|         1|\n",
      "|    15|      Lily|    Koch|     F| paid|1543234288796|         1|\n",
      "|    54|     Kaleb|    Cook|     M| free|1543459210796|         1|\n",
      "|   101|    Jayden|     Fox|     M| free|1543589497796|         1|\n",
      "|    11| Christian|  Porter|     F| free|1543103174796|         1|\n",
      "|    29|Jacqueline|   Lynch|     F| paid|1543423613796|         1|\n",
      "|    69|  Anabelle| Simpson|     F| free|1543415274796|         1|\n",
      "|    42|    Harper| Barrett|     M| paid|1542714436796|         1|\n",
      "|    73|     Jacob|   Klein|     M| paid|1543544359796|         1|\n",
      "+------+----------+--------+------+-----+-------------+----------+\n",
      "only showing top 10 rows\n",
      "\n"
     ]
    }
   ],
   "source": [
    "user_data.show(10)"
   ]
  },
  {
   "cell_type": "code",
   "execution_count": 44,
   "metadata": {},
   "outputs": [],
   "source": [
    "#JOIN -- #song == title; artist == artist_name; duration == length; start_time == start_time \n",
    "\n",
    "copy_df.createOrReplaceTempView(\"songs_log\")\n",
    "log_copy1.createOrReplaceTempView(\"evts_log\")\n",
    "time_data.createOrReplaceTempView(\"time_log\")\n",
    "\n",
    "songplays_table = spark.sql(\"\"\"\n",
    "    select e.songplay_id, \n",
    "    e.start_time, e.userId, e.level, \n",
    "    s.song_id, s.artist_id, e.sessionId, \n",
    "    e.location, e.userAgent, t.year, t.month \n",
    "    from songs_log s INNER JOIN evts_log e ON s.title = e.song \n",
    "    AND s.artist_name = e.artist AND s.duration = e.length \n",
    "    INNER JOIN time_log t ON t.start_time = e.start_time\"\"\")"
   ]
  },
  {
   "cell_type": "code",
   "execution_count": 46,
   "metadata": {
    "scrolled": true
   },
   "outputs": [
    {
     "data": {
      "text/plain": [
       "1"
      ]
     },
     "execution_count": 46,
     "metadata": {},
     "output_type": "execute_result"
    }
   ],
   "source": [
    "songplays_table.count()"
   ]
  },
  {
   "cell_type": "code",
   "execution_count": 48,
   "metadata": {},
   "outputs": [],
   "source": [
    "time_data.write.partitionBy('year', 'month').parquet(\"C:/Users/Adeboye Adeniyi/Documents/Data/time_da.parquet\")"
   ]
  },
  {
   "cell_type": "code",
   "execution_count": 88,
   "metadata": {},
   "outputs": [],
   "source": [
    "#song == title; artist == artist_name; duration == length; start_time == start_time\n",
    "\n",
    "song_log = songs_table.join(log_copy1, songs_table.title == log_copy1.song).collect()\n",
    "#artist_log = artist_table.join(song_log, artist_table.name == song_log.artist).collect()"
   ]
  },
  {
   "cell_type": "code",
   "execution_count": null,
   "metadata": {},
   "outputs": [],
   "source": []
  },
  {
   "cell_type": "code",
   "execution_count": 83,
   "metadata": {},
   "outputs": [
    {
     "ename": "TypeError",
     "evalue": "count() takes exactly one argument (0 given)",
     "output_type": "error",
     "traceback": [
      "\u001b[1;31m---------------------------------------------------------------------------\u001b[0m",
      "\u001b[1;31mTypeError\u001b[0m                                 Traceback (most recent call last)",
      "\u001b[1;32m<ipython-input-83-c92423dfca21>\u001b[0m in \u001b[0;36m<module>\u001b[1;34m\u001b[0m\n\u001b[1;32m----> 1\u001b[1;33m \u001b[0martist_log\u001b[0m\u001b[1;33m.\u001b[0m\u001b[0mcount\u001b[0m\u001b[1;33m(\u001b[0m\u001b[1;33m)\u001b[0m\u001b[1;33m\u001b[0m\u001b[1;33m\u001b[0m\u001b[0m\n\u001b[0m",
      "\u001b[1;31mTypeError\u001b[0m: count() takes exactly one argument (0 given)"
     ]
    }
   ],
   "source": [
    "artist_log.count()"
   ]
  },
  {
   "cell_type": "code",
   "execution_count": null,
   "metadata": {},
   "outputs": [],
   "source": []
  },
  {
   "cell_type": "code",
   "execution_count": null,
   "metadata": {},
   "outputs": [],
   "source": []
  }
 ],
 "metadata": {
  "kernelspec": {
   "display_name": "Python 3",
   "language": "python",
   "name": "python3"
  },
  "language_info": {
   "codemirror_mode": {
    "name": "ipython",
    "version": 3
   },
   "file_extension": ".py",
   "mimetype": "text/x-python",
   "name": "python",
   "nbconvert_exporter": "python",
   "pygments_lexer": "ipython3",
   "version": "3.7.3"
  }
 },
 "nbformat": 4,
 "nbformat_minor": 2
}
